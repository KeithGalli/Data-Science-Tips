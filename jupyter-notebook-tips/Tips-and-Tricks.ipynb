{
 "cells": [
  {
   "cell_type": "markdown",
   "id": "62a05a7d",
   "metadata": {
    "slideshow": {
     "slide_type": "slide"
    }
   },
   "source": [
    "## 1. Run Terminal Commands in Jupyter"
   ]
  },
  {
   "cell_type": "code",
   "execution_count": 51,
   "id": "1d636206",
   "metadata": {
    "slideshow": {
     "slide_type": "fragment"
    }
   },
   "outputs": [],
   "source": [
    "!pip install seaborn"
   ]
  },
  {
   "cell_type": "code",
   "execution_count": 37,
   "id": "03348907",
   "metadata": {
    "scrolled": true,
    "slideshow": {
     "slide_type": "fragment"
    }
   },
   "outputs": [
    {
     "name": "stdout",
     "output_type": "stream",
     "text": [
      " README.md\t\t\t    Tips-and-Tricks.slides.html\r\n",
      " Tips-and-Tricks.ipynb\t\t    social-data\r\n",
      "'Tips-and-Tricks.slides (1).html'   social-media-data-all.csv\r\n"
     ]
    }
   ],
   "source": [
    "!ls"
   ]
  },
  {
   "cell_type": "code",
   "execution_count": 38,
   "id": "8618ac4b",
   "metadata": {
    "slideshow": {
     "slide_type": "subslide"
    }
   },
   "outputs": [
    {
     "name": "stdout",
     "output_type": "stream",
     "text": [
      "instagram-keithgalli-daily-data.csv\r\n",
      "tiktok-keithgalli-daily-data.csv\r\n",
      "twitter-keithgalli-daily-data.csv\r\n",
      "youtube-kgmit-daily-data.csv\r\n",
      "youtube-techtrekbykeithgalli-daily-data.csv\r\n"
     ]
    }
   ],
   "source": [
    "!cd social-data; ls"
   ]
  },
  {
   "cell_type": "code",
   "execution_count": 39,
   "id": "2bfaad4a",
   "metadata": {
    "slideshow": {
     "slide_type": "subslide"
    }
   },
   "outputs": [
    {
     "name": "stdout",
     "output_type": "stream",
     "text": [
      " _________________________\r\n",
      "< keith is really cooolll >\r\n",
      " -------------------------\r\n",
      "        \\   ^__^\r\n",
      "         \\  (oo)\\_______\r\n",
      "            (__)\\       )\\/\\\r\n",
      "                ||----w |\r\n",
      "                ||     ||\r\n"
     ]
    }
   ],
   "source": [
    "!cowsay \"keith is really cooolll\""
   ]
  },
  {
   "cell_type": "code",
   "execution_count": 40,
   "id": "66fc16e0",
   "metadata": {
    "collapsed": true,
    "slideshow": {
     "slide_type": "fragment"
    }
   },
   "outputs": [
    {
     "name": "stdout",
     "output_type": "stream",
     "text": [
      "Defaulting to user installation because normal site-packages is not writeable\n",
      "Requirement already satisfied: seaborn in /home/kgalli/.local/lib/python3.8/site-packages (0.11.2)\n",
      "Requirement already satisfied: scipy>=1.0 in /home/kgalli/.local/lib/python3.8/site-packages (from seaborn) (1.7.3)\n",
      "Requirement already satisfied: matplotlib>=2.2 in /home/kgalli/.local/lib/python3.8/site-packages (from seaborn) (3.5.1)\n",
      "Requirement already satisfied: numpy>=1.15 in /home/kgalli/.local/lib/python3.8/site-packages (from seaborn) (1.21.5)\n",
      "Requirement already satisfied: pandas>=0.23 in /home/kgalli/.local/lib/python3.8/site-packages (from seaborn) (1.3.5)\n",
      "Requirement already satisfied: kiwisolver>=1.0.1 in /home/kgalli/.local/lib/python3.8/site-packages (from matplotlib>=2.2->seaborn) (1.3.2)\n",
      "Requirement already satisfied: fonttools>=4.22.0 in /home/kgalli/.local/lib/python3.8/site-packages (from matplotlib>=2.2->seaborn) (4.28.5)\n",
      "Requirement already satisfied: cycler>=0.10 in /home/kgalli/.local/lib/python3.8/site-packages (from matplotlib>=2.2->seaborn) (0.11.0)\n",
      "Requirement already satisfied: pyparsing>=2.2.1 in /home/kgalli/.local/lib/python3.8/site-packages (from matplotlib>=2.2->seaborn) (3.0.6)\n",
      "Requirement already satisfied: pillow>=6.2.0 in /home/kgalli/.local/lib/python3.8/site-packages (from matplotlib>=2.2->seaborn) (9.0.0)\n",
      "Requirement already satisfied: packaging>=20.0 in /home/kgalli/.local/lib/python3.8/site-packages (from matplotlib>=2.2->seaborn) (21.3)\n",
      "Requirement already satisfied: python-dateutil>=2.7 in /home/kgalli/.local/lib/python3.8/site-packages (from matplotlib>=2.2->seaborn) (2.8.2)\n",
      "Requirement already satisfied: pytz>=2017.3 in /home/kgalli/.local/lib/python3.8/site-packages (from pandas>=0.23->seaborn) (2021.3)\n",
      "Requirement already satisfied: six>=1.5 in /usr/lib/python3/dist-packages (from python-dateutil>=2.7->matplotlib>=2.2->seaborn) (1.14.0)\n",
      "\u001b[33mWARNING: You are using pip version 22.0.3; however, version 22.1 is available.\n",
      "You should consider upgrading via the '/usr/bin/python3 -m pip install --upgrade pip' command.\u001b[0m\u001b[33m\n",
      "\u001b[0mNote: you may need to restart the kernel to use updated packages.\n"
     ]
    }
   ],
   "source": [
    "%pip install seaborn"
   ]
  },
  {
   "cell_type": "markdown",
   "id": "75247bd7",
   "metadata": {
    "slideshow": {
     "slide_type": "slide"
    }
   },
   "source": [
    "## 2. Shortcuts in Jupyter Notebooks"
   ]
  },
  {
   "cell_type": "markdown",
   "id": "2e111289",
   "metadata": {
    "slideshow": {
     "slide_type": "fragment"
    }
   },
   "source": [
    "M: switch to markdown <br/>\n",
    "A: create cells above <br/>\n",
    "B: create cells below <br/>\n",
    "D+D: delete cell <br/>\n",
    "Y: switch to code <br/>\n",
    "\n",
    "ctrl+enter: run cell and stay on cell <br/>\n",
    "shift+enter: run cell and go to next <br/>\n",
    "(you have to press _esc_ before running shortcut) <br/>\n",
    "\n",
    "edit --> find & replace (another useful command)"
   ]
  },
  {
   "cell_type": "markdown",
   "id": "3fe73729",
   "metadata": {
    "slideshow": {
     "slide_type": "slide"
    }
   },
   "source": [
    "## 3. Changing Pandas Display Options\n",
    "Resource I referenced: https://towardsdatascience.com/8-commonly-used-pandas-display-options-you-should-know-a832365efa95"
   ]
  },
  {
   "cell_type": "code",
   "execution_count": 41,
   "id": "f97fc98c",
   "metadata": {
    "slideshow": {
     "slide_type": "fragment"
    }
   },
   "outputs": [],
   "source": [
    "import pandas as pd"
   ]
  },
  {
   "cell_type": "code",
   "execution_count": 42,
   "id": "e3a5196c",
   "metadata": {
    "slideshow": {
     "slide_type": "fragment"
    }
   },
   "outputs": [],
   "source": [
    "df = pd.read_csv('social-media-data-all.csv')"
   ]
  },
  {
   "cell_type": "code",
   "execution_count": 43,
   "id": "14a258d7",
   "metadata": {
    "slideshow": {
     "slide_type": "subslide"
    }
   },
   "outputs": [
    {
     "data": {
      "text/html": [
       "<div>\n",
       "<style scoped>\n",
       "    .dataframe tbody tr th:only-of-type {\n",
       "        vertical-align: middle;\n",
       "    }\n",
       "\n",
       "    .dataframe tbody tr th {\n",
       "        vertical-align: top;\n",
       "    }\n",
       "\n",
       "    .dataframe thead th {\n",
       "        text-align: right;\n",
       "    }\n",
       "</style>\n",
       "<table border=\"1\" class=\"dataframe\">\n",
       "  <thead>\n",
       "    <tr style=\"text-align: right;\">\n",
       "      <th></th>\n",
       "      <th>date</th>\n",
       "      <th>subs</th>\n",
       "      <th>views</th>\n",
       "      <th>subs_techtrek</th>\n",
       "      <th>views_techtrek</th>\n",
       "      <th>followers_instagram</th>\n",
       "      <th>following_instagram</th>\n",
       "      <th>media_instagram</th>\n",
       "      <th>avg_likes_instagram</th>\n",
       "      <th>avg_comments_instagram</th>\n",
       "      <th>followers_twitter</th>\n",
       "      <th>following_twitter</th>\n",
       "      <th>tweets_twitter</th>\n",
       "      <th>favorites_twitter</th>\n",
       "      <th>followers_tiktok</th>\n",
       "      <th>following_tiktok</th>\n",
       "      <th>likes_tiktok</th>\n",
       "      <th>uploads_tiktok</th>\n",
       "    </tr>\n",
       "  </thead>\n",
       "  <tbody>\n",
       "    <tr>\n",
       "      <th>0</th>\n",
       "      <td>2022-05-18</td>\n",
       "      <td>160000.0</td>\n",
       "      <td>1.06e+07</td>\n",
       "      <td>3430.0</td>\n",
       "      <td>19671.0</td>\n",
       "      <td>4607.0</td>\n",
       "      <td>817.0</td>\n",
       "      <td>163.0</td>\n",
       "      <td>561.88</td>\n",
       "      <td>32.62</td>\n",
       "      <td>4169.0</td>\n",
       "      <td>175.0</td>\n",
       "      <td>821.0</td>\n",
       "      <td>938.0</td>\n",
       "      <td>996.0</td>\n",
       "      <td>129.0</td>\n",
       "      <td>19300.0</td>\n",
       "      <td>22.0</td>\n",
       "    </tr>\n",
       "    <tr>\n",
       "      <th>1</th>\n",
       "      <td>2022-05-17</td>\n",
       "      <td>159000.0</td>\n",
       "      <td>1.06e+07</td>\n",
       "      <td>3040.0</td>\n",
       "      <td>18935.0</td>\n",
       "      <td>4587.0</td>\n",
       "      <td>817.0</td>\n",
       "      <td>162.0</td>\n",
       "      <td>561.75</td>\n",
       "      <td>32.62</td>\n",
       "      <td>4165.0</td>\n",
       "      <td>175.0</td>\n",
       "      <td>819.0</td>\n",
       "      <td>938.0</td>\n",
       "      <td>NaN</td>\n",
       "      <td>NaN</td>\n",
       "      <td>NaN</td>\n",
       "      <td>NaN</td>\n",
       "    </tr>\n",
       "    <tr>\n",
       "      <th>2</th>\n",
       "      <td>2022-05-16</td>\n",
       "      <td>159000.0</td>\n",
       "      <td>1.06e+07</td>\n",
       "      <td>3010.0</td>\n",
       "      <td>18903.0</td>\n",
       "      <td>4587.0</td>\n",
       "      <td>817.0</td>\n",
       "      <td>162.0</td>\n",
       "      <td>561.75</td>\n",
       "      <td>32.62</td>\n",
       "      <td>4154.0</td>\n",
       "      <td>175.0</td>\n",
       "      <td>814.0</td>\n",
       "      <td>935.0</td>\n",
       "      <td>NaN</td>\n",
       "      <td>NaN</td>\n",
       "      <td>NaN</td>\n",
       "      <td>NaN</td>\n",
       "    </tr>\n",
       "    <tr>\n",
       "      <th>3</th>\n",
       "      <td>2022-05-15</td>\n",
       "      <td>159000.0</td>\n",
       "      <td>1.06e+07</td>\n",
       "      <td>3010.0</td>\n",
       "      <td>18866.0</td>\n",
       "      <td>4585.0</td>\n",
       "      <td>817.0</td>\n",
       "      <td>162.0</td>\n",
       "      <td>561.31</td>\n",
       "      <td>32.62</td>\n",
       "      <td>4140.0</td>\n",
       "      <td>175.0</td>\n",
       "      <td>803.0</td>\n",
       "      <td>922.0</td>\n",
       "      <td>NaN</td>\n",
       "      <td>NaN</td>\n",
       "      <td>NaN</td>\n",
       "      <td>NaN</td>\n",
       "    </tr>\n",
       "    <tr>\n",
       "      <th>4</th>\n",
       "      <td>2022-05-14</td>\n",
       "      <td>159000.0</td>\n",
       "      <td>1.06e+07</td>\n",
       "      <td>3010.0</td>\n",
       "      <td>18840.0</td>\n",
       "      <td>4580.0</td>\n",
       "      <td>817.0</td>\n",
       "      <td>162.0</td>\n",
       "      <td>560.75</td>\n",
       "      <td>32.62</td>\n",
       "      <td>4131.0</td>\n",
       "      <td>175.0</td>\n",
       "      <td>800.0</td>\n",
       "      <td>920.0</td>\n",
       "      <td>NaN</td>\n",
       "      <td>NaN</td>\n",
       "      <td>NaN</td>\n",
       "      <td>NaN</td>\n",
       "    </tr>\n",
       "  </tbody>\n",
       "</table>\n",
       "</div>"
      ],
      "text/plain": [
       "         date      subs     views  subs_techtrek  views_techtrek  \\\n",
       "0  2022-05-18  160000.0  1.06e+07         3430.0         19671.0   \n",
       "1  2022-05-17  159000.0  1.06e+07         3040.0         18935.0   \n",
       "2  2022-05-16  159000.0  1.06e+07         3010.0         18903.0   \n",
       "3  2022-05-15  159000.0  1.06e+07         3010.0         18866.0   \n",
       "4  2022-05-14  159000.0  1.06e+07         3010.0         18840.0   \n",
       "\n",
       "   followers_instagram  following_instagram  media_instagram  \\\n",
       "0               4607.0                817.0            163.0   \n",
       "1               4587.0                817.0            162.0   \n",
       "2               4587.0                817.0            162.0   \n",
       "3               4585.0                817.0            162.0   \n",
       "4               4580.0                817.0            162.0   \n",
       "\n",
       "   avg_likes_instagram  avg_comments_instagram  followers_twitter  \\\n",
       "0               561.88                   32.62             4169.0   \n",
       "1               561.75                   32.62             4165.0   \n",
       "2               561.75                   32.62             4154.0   \n",
       "3               561.31                   32.62             4140.0   \n",
       "4               560.75                   32.62             4131.0   \n",
       "\n",
       "   following_twitter  tweets_twitter  favorites_twitter  followers_tiktok  \\\n",
       "0              175.0           821.0              938.0             996.0   \n",
       "1              175.0           819.0              938.0               NaN   \n",
       "2              175.0           814.0              935.0               NaN   \n",
       "3              175.0           803.0              922.0               NaN   \n",
       "4              175.0           800.0              920.0               NaN   \n",
       "\n",
       "   following_tiktok  likes_tiktok  uploads_tiktok  \n",
       "0             129.0       19300.0            22.0  \n",
       "1               NaN           NaN             NaN  \n",
       "2               NaN           NaN             NaN  \n",
       "3               NaN           NaN             NaN  \n",
       "4               NaN           NaN             NaN  "
      ]
     },
     "execution_count": 43,
     "metadata": {},
     "output_type": "execute_result"
    }
   ],
   "source": [
    "df.head()"
   ]
  },
  {
   "cell_type": "code",
   "execution_count": 44,
   "id": "7adac782",
   "metadata": {
    "slideshow": {
     "slide_type": "fragment"
    }
   },
   "outputs": [],
   "source": [
    "pd.options.display.max_rows = 200\n",
    "pd.options.display.max_columns = 30"
   ]
  },
  {
   "cell_type": "code",
   "execution_count": 45,
   "id": "edd99d69",
   "metadata": {
    "slideshow": {
     "slide_type": "fragment"
    }
   },
   "outputs": [
    {
     "data": {
      "text/plain": [
       "50"
      ]
     },
     "execution_count": 45,
     "metadata": {},
     "output_type": "execute_result"
    }
   ],
   "source": [
    "pd.options.display.max_colwidth"
   ]
  },
  {
   "cell_type": "code",
   "execution_count": 46,
   "id": "40142002",
   "metadata": {
    "slideshow": {
     "slide_type": "fragment"
    }
   },
   "outputs": [
    {
     "data": {
      "text/plain": [
       "2"
      ]
     },
     "execution_count": 46,
     "metadata": {},
     "output_type": "execute_result"
    }
   ],
   "source": [
    "pd.options.display.precision"
   ]
  },
  {
   "cell_type": "markdown",
   "id": "19554ca1",
   "metadata": {
    "slideshow": {
     "slide_type": "slide"
    }
   },
   "source": [
    "## 4. Setting up alerts when cells finished"
   ]
  },
  {
   "cell_type": "code",
   "execution_count": 50,
   "id": "fba7a351",
   "metadata": {
    "slideshow": {
     "slide_type": "fragment"
    }
   },
   "outputs": [],
   "source": [
    "!pip install jupyternotify"
   ]
  },
  {
   "cell_type": "code",
   "execution_count": 48,
   "id": "d1554aa4",
   "metadata": {
    "slideshow": {
     "slide_type": "fragment"
    }
   },
   "outputs": [
    {
     "name": "stdout",
     "output_type": "stream",
     "text": [
      "The jupyternotify extension is already loaded. To reload it, use:\n",
      "  %reload_ext jupyternotify\n"
     ]
    }
   ],
   "source": [
    "%load_ext jupyternotify"
   ]
  },
  {
   "cell_type": "code",
   "execution_count": 49,
   "id": "b9abf33d",
   "metadata": {
    "slideshow": {
     "slide_type": "subslide"
    }
   },
   "outputs": [
    {
     "name": "stdout",
     "output_type": "stream",
     "text": [
      "Cell finished executed\n"
     ]
    },
    {
     "data": {
      "application/javascript": [
       "$(document).ready(\n",
       "    function() {\n",
       "        function appendUniqueDiv(){\n",
       "            // append a div with our uuid so we can check that it's already\n",
       "            // been sent and avoid duplicates on page reload\n",
       "            var notifiedDiv = document.createElement(\"div\")\n",
       "            notifiedDiv.id = \"ea9d2f18-09aa-494e-9927-11d6a8af2ac8\"\n",
       "            element.append(notifiedDiv)\n",
       "        }\n",
       "\n",
       "        // only send notifications if the pageload is complete; this will\n",
       "        // help stop extra notifications when a saved notebook is loaded,\n",
       "        // which during testing gives us state \"interactive\", not \"complete\"\n",
       "        if (document.readyState === 'complete') {\n",
       "            // check for the div that signifies that the notification\n",
       "            // was already sent\n",
       "            if (document.getElementById(\"ea9d2f18-09aa-494e-9927-11d6a8af2ac8\") === null) {\n",
       "                var notificationPayload = {\"requireInteraction\": false, \"icon\": \"/static/base/images/favicon.ico\", \"body\": \"Cell execution has finished!\"};\n",
       "                if (Notification.permission !== 'denied') {\n",
       "                    if (Notification.permission !== 'granted') { \n",
       "                        Notification.requestPermission(function (permission) {\n",
       "                            if(!('permission' in Notification)) {\n",
       "                                Notification.permission = permission\n",
       "                            }\n",
       "                        })\n",
       "                    }\n",
       "                    if (Notification.permission === 'granted') {\n",
       "                    var notification = new Notification(\"Jupyter Notebook\", notificationPayload)\n",
       "                    appendUniqueDiv()\n",
       "                    notification.onclick = function () {\n",
       "                        window.focus();\n",
       "                        this.close();\n",
       "                        };\n",
       "                    } \n",
       "                }     \n",
       "            }\n",
       "        }\n",
       "    }\n",
       ")\n"
      ],
      "text/plain": [
       "<IPython.core.display.Javascript object>"
      ]
     },
     "metadata": {},
     "output_type": "display_data"
    }
   ],
   "source": [
    "%%notify\n",
    "\n",
    "# Imagine replacing below code with ML model training\n",
    "import time\n",
    "import random\n",
    "\n",
    "r = random.randint(30, 60)\n",
    "time.sleep(r)\n",
    "\n",
    "print(\"Cell finished executed\")"
   ]
  },
  {
   "cell_type": "markdown",
   "id": "b037dee5",
   "metadata": {
    "slideshow": {
     "slide_type": "slide"
    }
   },
   "source": [
    "## 5. Create a slideshow out of your notebook"
   ]
  },
  {
   "cell_type": "markdown",
   "id": "ce105fc3",
   "metadata": {
    "slideshow": {
     "slide_type": "fragment"
    }
   },
   "source": [
    "view --> cell toolbar --> slideshow"
   ]
  },
  {
   "cell_type": "markdown",
   "id": "b5bba9ea",
   "metadata": {
    "slideshow": {
     "slide_type": "fragment"
    }
   },
   "source": [
    "Slides - Main option <br/>\n",
    "Sub-slide - fill full screen <br/>\n",
    "Fragments - underneath slide/sub-slide add additional information <br/>\n",
    "Skip - don't include cell <br/>\n",
    "Notes - don't include cell"
   ]
  },
  {
   "cell_type": "markdown",
   "id": "dd150ac5",
   "metadata": {
    "slideshow": {
     "slide_type": "slide"
    }
   },
   "source": [
    "## BONUS!!! Change jupyter theme"
   ]
  },
  {
   "cell_type": "markdown",
   "id": "8aa09668",
   "metadata": {
    "slideshow": {
     "slide_type": "fragment"
    }
   },
   "source": [
    "See video I posted on the second channel! <br/>\n",
    "https://youtu.be/DnkxaEgen0E"
   ]
  },
  {
   "cell_type": "markdown",
   "id": "f85b9e92",
   "metadata": {
    "slideshow": {
     "slide_type": "fragment"
    }
   },
   "source": [
    "Run the following command <br/>\n",
    "```pip install jupyterthemes```\n",
    "\n",
    "Followed by <br/>\n",
    "```jt -t monokai```\n",
    "\n",
    "To see all theme options <br/>\n",
    "```jt -l```\n",
    "\n",
    "To restore to default theme <br/>\n",
    "```jt -r```"
   ]
  }
 ],
 "metadata": {
  "kernelspec": {
   "display_name": "Python 3 (ipykernel)",
   "language": "python",
   "name": "python3"
  },
  "language_info": {
   "codemirror_mode": {
    "name": "ipython",
    "version": 3
   },
   "file_extension": ".py",
   "mimetype": "text/x-python",
   "name": "python",
   "nbconvert_exporter": "python",
   "pygments_lexer": "ipython3",
   "version": "3.8.10"
  }
 },
 "nbformat": 4,
 "nbformat_minor": 5
}
