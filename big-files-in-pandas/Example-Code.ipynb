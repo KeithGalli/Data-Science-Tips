{
 "cells": [
  {
   "cell_type": "code",
   "execution_count": 2,
   "id": "bb9bafff",
   "metadata": {},
   "outputs": [],
   "source": [
    "import pandas as pd"
   ]
  },
  {
   "cell_type": "code",
   "execution_count": 3,
   "id": "a43b807e",
   "metadata": {},
   "outputs": [],
   "source": [
    "df = pd.read_csv('Nov-2019.csv', chunksize=100000)"
   ]
  },
  {
   "cell_type": "code",
   "execution_count": 7,
   "id": "08536df9",
   "metadata": {},
   "outputs": [
    {
     "name": "stderr",
     "output_type": "stream",
     "text": [
      "/tmp/ipykernel_497/3846829949.py:5: SettingWithCopyWarning: \n",
      "A value is trying to be set on a copy of a slice from a DataFrame.\n",
      "Try using .loc[row_indexer,col_indexer] = value instead\n",
      "\n",
      "See the caveats in the documentation: https://pandas.pydata.org/pandas-docs/stable/user_guide/indexing.html#returning-a-view-versus-a-copy\n",
      "  details['count'] = 1\n"
     ]
    }
   ],
   "source": [
    "output = pd.DataFrame()\n",
    "for chunk in df:\n",
    "    categories = ['brand','category_code','event_type']\n",
    "    details = chunk[categories]\n",
    "    details['count'] = 1\n",
    "    summary = details.groupby(categories).sum().reset_index()\n",
    "    output = output.append(summary, ignore_index=True)"
   ]
  },
  {
   "cell_type": "code",
   "execution_count": 9,
   "id": "3095a991",
   "metadata": {},
   "outputs": [],
   "source": [
    "final_output = output.groupby(categories).sum().reset_index()"
   ]
  },
  {
   "cell_type": "code",
   "execution_count": 12,
   "id": "bf759d7a",
   "metadata": {},
   "outputs": [],
   "source": [
    "final_output.to_csv('aggregated-consumer-info-Nov-2019.csv', index=False)"
   ]
  },
  {
   "cell_type": "code",
   "execution_count": null,
   "id": "4e2c1186",
   "metadata": {},
   "outputs": [],
   "source": []
  }
 ],
 "metadata": {
  "kernelspec": {
   "display_name": "Python 3 (ipykernel)",
   "language": "python",
   "name": "python3"
  },
  "language_info": {
   "codemirror_mode": {
    "name": "ipython",
    "version": 3
   },
   "file_extension": ".py",
   "mimetype": "text/x-python",
   "name": "python",
   "nbconvert_exporter": "python",
   "pygments_lexer": "ipython3",
   "version": "3.8.10"
  }
 },
 "nbformat": 4,
 "nbformat_minor": 5
}
