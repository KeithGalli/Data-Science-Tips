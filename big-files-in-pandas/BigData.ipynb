{
 "cells": [
  {
   "cell_type": "code",
   "execution_count": 18,
   "id": "f346fa19",
   "metadata": {},
   "outputs": [],
   "source": [
    "import pandas as pd"
   ]
  },
  {
   "cell_type": "code",
   "execution_count": 19,
   "id": "23c6023b",
   "metadata": {},
   "outputs": [],
   "source": [
    "df = pd.read_csv('BigFile.csv', chunksize=100000)"
   ]
  },
  {
   "cell_type": "code",
   "execution_count": 20,
   "id": "8360567b",
   "metadata": {},
   "outputs": [],
   "source": [
    "# final_df = pd.DataFrame()\n",
    "# for chunk in df:\n",
    "#     summed = chunk.groupby('brand').sum().reset_index()\n",
    "#     final_df = final_df.append(summed, ignore_index=True)"
   ]
  },
  {
   "cell_type": "code",
   "execution_count": 21,
   "id": "609d8d2a",
   "metadata": {},
   "outputs": [
    {
     "name": "stderr",
     "output_type": "stream",
     "text": [
      "/tmp/ipykernel_270/360108269.py:4: SettingWithCopyWarning: \n",
      "A value is trying to be set on a copy of a slice from a DataFrame.\n",
      "Try using .loc[row_indexer,col_indexer] = value instead\n",
      "\n",
      "See the caveats in the documentation: https://pandas.pydata.org/pandas-docs/stable/user_guide/indexing.html#returning-a-view-versus-a-copy\n",
      "  details['count'] = 1\n"
     ]
    }
   ],
   "source": [
    "output = pd.DataFrame()\n",
    "for chunk in df:\n",
    "    details = chunk[['brand','category_code','event_type']].\n",
    "    details['count'] = 1\n",
    "    summary = details.groupby(['brand','category_code','event_type']).sum().reset_index()\n",
    "    output = summary.append(output,ignore_index=True)"
   ]
  },
  {
   "cell_type": "code",
   "execution_count": 26,
   "id": "1f0765b7",
   "metadata": {},
   "outputs": [
    {
     "data": {
      "text/html": [
       "<div>\n",
       "<style scoped>\n",
       "    .dataframe tbody tr th:only-of-type {\n",
       "        vertical-align: middle;\n",
       "    }\n",
       "\n",
       "    .dataframe tbody tr th {\n",
       "        vertical-align: top;\n",
       "    }\n",
       "\n",
       "    .dataframe thead th {\n",
       "        text-align: right;\n",
       "    }\n",
       "</style>\n",
       "<table border=\"1\" class=\"dataframe\">\n",
       "  <thead>\n",
       "    <tr style=\"text-align: right;\">\n",
       "      <th></th>\n",
       "      <th>brand</th>\n",
       "      <th>category_code</th>\n",
       "      <th>event_type</th>\n",
       "      <th>count</th>\n",
       "    </tr>\n",
       "  </thead>\n",
       "  <tbody>\n",
       "    <tr>\n",
       "      <th>0</th>\n",
       "      <td>a-elita</td>\n",
       "      <td>accessories.bag</td>\n",
       "      <td>cart</td>\n",
       "      <td>8</td>\n",
       "    </tr>\n",
       "    <tr>\n",
       "      <th>1</th>\n",
       "      <td>a-elita</td>\n",
       "      <td>accessories.bag</td>\n",
       "      <td>purchase</td>\n",
       "      <td>1</td>\n",
       "    </tr>\n",
       "    <tr>\n",
       "      <th>2</th>\n",
       "      <td>a-elita</td>\n",
       "      <td>accessories.bag</td>\n",
       "      <td>view</td>\n",
       "      <td>311</td>\n",
       "    </tr>\n",
       "    <tr>\n",
       "      <th>3</th>\n",
       "      <td>aardwolf</td>\n",
       "      <td>computers.components.cooler</td>\n",
       "      <td>cart</td>\n",
       "      <td>13</td>\n",
       "    </tr>\n",
       "    <tr>\n",
       "      <th>4</th>\n",
       "      <td>aardwolf</td>\n",
       "      <td>computers.components.cooler</td>\n",
       "      <td>purchase</td>\n",
       "      <td>7</td>\n",
       "    </tr>\n",
       "  </tbody>\n",
       "</table>\n",
       "</div>"
      ],
      "text/plain": [
       "      brand                category_code event_type  count\n",
       "0   a-elita              accessories.bag       cart      8\n",
       "1   a-elita              accessories.bag   purchase      1\n",
       "2   a-elita              accessories.bag       view    311\n",
       "3  aardwolf  computers.components.cooler       cart     13\n",
       "4  aardwolf  computers.components.cooler   purchase      7"
      ]
     },
     "execution_count": 26,
     "metadata": {},
     "output_type": "execute_result"
    }
   ],
   "source": [
    "final_output = output.groupby(['brand','category_code','event_type']).sum().reset_index()\n",
    "final_output.head()"
   ]
  },
  {
   "cell_type": "code",
   "execution_count": 30,
   "id": "2f1d5a09",
   "metadata": {},
   "outputs": [
    {
     "data": {
      "text/html": [
       "<div>\n",
       "<style scoped>\n",
       "    .dataframe tbody tr th:only-of-type {\n",
       "        vertical-align: middle;\n",
       "    }\n",
       "\n",
       "    .dataframe tbody tr th {\n",
       "        vertical-align: top;\n",
       "    }\n",
       "\n",
       "    .dataframe thead th {\n",
       "        text-align: right;\n",
       "    }\n",
       "</style>\n",
       "<table border=\"1\" class=\"dataframe\">\n",
       "  <thead>\n",
       "    <tr style=\"text-align: right;\">\n",
       "      <th></th>\n",
       "      <th>brand</th>\n",
       "      <th>category_code</th>\n",
       "      <th>event_type</th>\n",
       "      <th>count</th>\n",
       "    </tr>\n",
       "  </thead>\n",
       "  <tbody>\n",
       "    <tr>\n",
       "      <th>1</th>\n",
       "      <td>a-elita</td>\n",
       "      <td>accessories.bag</td>\n",
       "      <td>purchase</td>\n",
       "      <td>1</td>\n",
       "    </tr>\n",
       "    <tr>\n",
       "      <th>6362</th>\n",
       "      <td>pika</td>\n",
       "      <td>appliances.environment.vacuum</td>\n",
       "      <td>purchase</td>\n",
       "      <td>1</td>\n",
       "    </tr>\n",
       "    <tr>\n",
       "      <th>3443</th>\n",
       "      <td>greyder</td>\n",
       "      <td>apparel.shoes.slipons</td>\n",
       "      <td>purchase</td>\n",
       "      <td>1</td>\n",
       "    </tr>\n",
       "    <tr>\n",
       "      <th>7824</th>\n",
       "      <td>startline</td>\n",
       "      <td>furniture.kitchen.table</td>\n",
       "      <td>purchase</td>\n",
       "      <td>1</td>\n",
       "    </tr>\n",
       "    <tr>\n",
       "      <th>7833</th>\n",
       "      <td>stavr</td>\n",
       "      <td>construction.tools.welding</td>\n",
       "      <td>purchase</td>\n",
       "      <td>1</td>\n",
       "    </tr>\n",
       "    <tr>\n",
       "      <th>...</th>\n",
       "      <td>...</td>\n",
       "      <td>...</td>\n",
       "      <td>...</td>\n",
       "      <td>...</td>\n",
       "    </tr>\n",
       "    <tr>\n",
       "      <th>3863</th>\n",
       "      <td>huawei</td>\n",
       "      <td>electronics.smartphone</td>\n",
       "      <td>purchase</td>\n",
       "      <td>21636</td>\n",
       "    </tr>\n",
       "    <tr>\n",
       "      <th>427</th>\n",
       "      <td>apple</td>\n",
       "      <td>electronics.audio.headphone</td>\n",
       "      <td>purchase</td>\n",
       "      <td>25893</td>\n",
       "    </tr>\n",
       "    <tr>\n",
       "      <th>8972</th>\n",
       "      <td>xiaomi</td>\n",
       "      <td>electronics.smartphone</td>\n",
       "      <td>purchase</td>\n",
       "      <td>48553</td>\n",
       "    </tr>\n",
       "    <tr>\n",
       "      <th>433</th>\n",
       "      <td>apple</td>\n",
       "      <td>electronics.smartphone</td>\n",
       "      <td>purchase</td>\n",
       "      <td>127252</td>\n",
       "    </tr>\n",
       "    <tr>\n",
       "      <th>7164</th>\n",
       "      <td>samsung</td>\n",
       "      <td>electronics.smartphone</td>\n",
       "      <td>purchase</td>\n",
       "      <td>161791</td>\n",
       "    </tr>\n",
       "  </tbody>\n",
       "</table>\n",
       "<p>2411 rows × 4 columns</p>\n",
       "</div>"
      ],
      "text/plain": [
       "          brand                  category_code event_type   count\n",
       "1       a-elita                accessories.bag   purchase       1\n",
       "6362       pika  appliances.environment.vacuum   purchase       1\n",
       "3443    greyder          apparel.shoes.slipons   purchase       1\n",
       "7824  startline        furniture.kitchen.table   purchase       1\n",
       "7833      stavr     construction.tools.welding   purchase       1\n",
       "...         ...                            ...        ...     ...\n",
       "3863     huawei         electronics.smartphone   purchase   21636\n",
       "427       apple    electronics.audio.headphone   purchase   25893\n",
       "8972     xiaomi         electronics.smartphone   purchase   48553\n",
       "433       apple         electronics.smartphone   purchase  127252\n",
       "7164    samsung         electronics.smartphone   purchase  161791\n",
       "\n",
       "[2411 rows x 4 columns]"
      ]
     },
     "execution_count": 30,
     "metadata": {},
     "output_type": "execute_result"
    }
   ],
   "source": [
    "final_output[final_output['event_type']=='purchase'].sort_values('count')"
   ]
  },
  {
   "cell_type": "code",
   "execution_count": null,
   "id": "3ec81246",
   "metadata": {},
   "outputs": [],
   "source": []
  },
  {
   "cell_type": "code",
   "execution_count": null,
   "id": "e013f474",
   "metadata": {},
   "outputs": [],
   "source": []
  }
 ],
 "metadata": {
  "kernelspec": {
   "display_name": "Python 3 (ipykernel)",
   "language": "python",
   "name": "python3"
  },
  "language_info": {
   "codemirror_mode": {
    "name": "ipython",
    "version": 3
   },
   "file_extension": ".py",
   "mimetype": "text/x-python",
   "name": "python",
   "nbconvert_exporter": "python",
   "pygments_lexer": "ipython3",
   "version": "3.8.10"
  }
 },
 "nbformat": 4,
 "nbformat_minor": 5
}
